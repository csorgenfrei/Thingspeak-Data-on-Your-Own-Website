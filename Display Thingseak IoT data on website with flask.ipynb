{
 "cells": [
  {
   "cell_type": "markdown",
   "metadata": {},
   "source": [
    "# Display Thingspeak Data on your Own Website with Flask\n",
    "\n",
    "While it is perfectly possible to use Thingspeak to display and analyze IoT Data, you may want to display the data on a customized website (or store it somewhere in a database, file, etc.). Thingspeak provides an API that I used together with a Python flask server and chart.js to display the data on a website (running on heroku.com for test purposes).\n",
    "\n",
    "In this case, I used an ultrasonic ranger to measure distance (in cm) towards an object. Thingspeak provides different API requests to collect the data in a JSON format. For example, the request below reads the last 15 data points: \n",
    "\n",
    "https://api.thingspeak.com/channels/{your_channel_id}/feeds.json?api_key={your_api_key}&results=15"
   ]
  },
  {
   "cell_type": "markdown",
   "metadata": {},
   "source": [
    "### Step 1: Write flask app in python\n",
    "\n",
    "I run a flask app (app.py) to get the JSON data and display it on a html-page. Since I am only interested in the data fields and timestamps, I run a for-loop to extract exactly that information from the JSON object. The Thingspeak data (\"field1\" = measured distance in cm) and the timestamps of the measurements (\"created_at\") are stored in a list and plugged into the html-page as a placeholder (as \"results\" and \"timestamps\")."
   ]
  },
  {
   "cell_type": "code",
   "execution_count": null,
   "metadata": {},
   "outputs": [],
   "source": [
    "from flask import Flask, render_template\n",
    "import requests\n",
    "\n",
    "app = Flask(__name__)\n",
    "\n",
    "@app.route(\"/\")\n",
    "def index():\n",
    "\n",
    "    results = []\n",
    "    timestamps = []\n",
    "    channel_id = your_channel_id #enter id here \n",
    "\tapi_key = your_api_key # enter key here\n",
    "\turl = f'https://api.thingspeak.com/channels/{channel_id}/feeds.json?api_key={api_key}&results=17'\n",
    "    r = requests.get(url)\n",
    "    payloads = r.json()\n",
    "\n",
    "    #print single field values\n",
    "    for i in range (len(payloads['feeds'])):\n",
    "        distance = payloads['feeds'][i]['field1']\n",
    "        labels = payloads['feeds'][i]['created_at']\n",
    "        results.append(distance)\n",
    "        timestamps.append(labels)\n",
    "\n",
    "    return render_template(\"index.html\", results=results, timestamps=timestamps)\n",
    "\n",
    "if __name__ == \"__main__\":\n",
    "    app.run(debug=True)"
   ]
  },
  {
   "cell_type": "markdown",
   "metadata": {},
   "source": [
    "### Step 2: Display Data on html-site using chart.js\n",
    "\n",
    "The chart.js library offers a large variety of graphs and styles (I had a look here: https://tobiasahlin.com/blog/chartjs-charts-to-get-you-started/). I plugged the data and labels directly into the chart using a placeholder appended with \"tojson\". In its most simplest form, the html-site (\"index.html\") could look something like this:"
   ]
  },
  {
   "cell_type": "code",
   "execution_count": null,
   "metadata": {},
   "outputs": [],
   "source": [
    "<!DOCTYPE html>\n",
    "<html lang=\"en\" dir=\"ltr\">\n",
    "  <head>\n",
    "    <meta charset=\"utf-8\">\n",
    "    <title>Website</title>\n",
    "    <script src=\"https://cdnjs.cloudflare.com/ajax/libs/Chart.js/2.5.0/Chart.min.js\"></script>\n",
    "    </head>\n",
    "  <body>\n",
    "    <h1>Thingspeak data</h1>\n",
    "\n",
    "    <canvas id=\"line-chart\" width=\"800\" height=\"450\"></canvas>\n",
    "    <script>\n",
    "    new Chart(document.getElementById(\"line-chart\"), {\n",
    "    type: 'line',\n",
    "    data: {\n",
    "      labels: {{timestamps | tojson}},\n",
    "      datasets: [{\n",
    "          data: {{results | tojson}},\n",
    "          label: \"Chart\",\n",
    "          borderColor: \"#3e95cd\",\n",
    "          fill: false\n",
    "        }\n",
    "      ]\n",
    "    },\n",
    "    options: {\n",
    "      title: {\n",
    "        display: true,\n",
    "        text: 'Distance in CM'\n",
    "      }\n",
    "    }\n",
    "  });\n",
    "    </script>\n",
    "\n",
    "    </body>\n",
    "\n",
    "</html>"
   ]
  },
  {
   "cell_type": "markdown",
   "metadata": {},
   "source": [
    "The result would look something like this. The chart dynamically updates once you refresh the website."
   ]
  },
  {
   "cell_type": "markdown",
   "metadata": {},
   "source": [
     "\n",
    <img src = "images/chartjs.jpg" width=600 />
    "\n",
   ]
  }
 ],
 "metadata": {
  "kernelspec": {
   "display_name": "Python 3",
   "language": "python",
   "name": "python3"
  },
  "language_info": {
   "codemirror_mode": {
    "name": "ipython",
    "version": 3
   },
   "file_extension": ".py",
   "mimetype": "text/x-python",
   "name": "python",
   "nbconvert_exporter": "python",
   "pygments_lexer": "ipython3",
   "version": "3.8.3"
  }
 },
 "nbformat": 4,
 "nbformat_minor": 4
}
